{
 "cells": [
  {
   "cell_type": "code",
   "execution_count": 1,
   "id": "2926c178-a057-4f3d-9063-5287f243716f",
   "metadata": {},
   "outputs": [
    {
     "name": "stdout",
     "output_type": "stream",
     "text": [
      "Overwriting auto display for cadquery Workplane and Shape\n",
      "\n",
      "Enabling jupyter_cadquery replay\n"
     ]
    }
   ],
   "source": [
    "from jupyter_cadquery import set_defaults, open_viewer, show\n",
    "from jupyter_cadquery.replay import replay,  enable_replay\n",
    "import cadquery as cq\n",
    "\n",
    "set_defaults(theme=\"dark\",\n",
    "            ortho=False,\n",
    "            reset_camera=False)\n",
    "open_viewer(\"CadQuery\")\n",
    "enable_replay(False, False)"
   ]
  },
  {
   "cell_type": "code",
   "execution_count": 2,
   "id": "5cb0c8f7-3991-4ad8-97a4-838ba0d6f4f1",
   "metadata": {
    "tags": []
   },
   "outputs": [],
   "source": [
    "key_sketch = cq.Sketch()\n",
    "key_sketch.importDXF(\"kbplate.dxf\")\n",
    "\n",
    "#find the constraints of the dxf \n",
    "MIN_X =  MIN_Y = 0.0\n",
    "MAX_X = MAX_Y = 0.0\n",
    "\n",
    "KEY_W = 19.05\n",
    "\n",
    "# for f in key_sketch.edges():\n",
    "#     loc = f.Center()\n",
    "#     MAX_X = max(loc.x, MAX_X)\n",
    "#     # switchplate is flipped\n",
    "#     MAX_Y = min(loc.y, MAX_Y)\n",
    "\n",
    "# MAX_X += (KEY_W/2.0)\n",
    "# MAX_Y -= (KEY_W/2.0)\n",
    "\n",
    "MAX_X = KEY_W * 14\n",
    "MAX_Y = KEY_W * -5\n",
    "\n",
    "CASE_MAX_Y = MAX_Y - 3\n",
    "CASE_MAX_X = MAX_X\n",
    "CASE_MIN_Y = MIN_Y + 3\n",
    "CASE_MIN_X = MIN_X\n",
    "\n",
    "FILLET_RD = 1\n",
    "\n",
    "base_sketch =(\n",
    "    cq.Sketch()\n",
    "    .segment((CASE_MIN_X, CASE_MIN_Y), (CASE_MAX_X, CASE_MIN_Y))\n",
    "    .segment((CASE_MAX_X, CASE_MAX_Y))\n",
    "    .segment((CASE_MIN_X, CASE_MAX_Y))\n",
    "    .close()\n",
    "    .assemble()\n",
    "    .vertices()\n",
    "    .fillet(FILLET_RD)\n",
    ")\n",
    "\n",
    "holes = [\n",
    "        # top row\n",
    "        (KEY_W,MIN_Y-2.5),\n",
    "        (KEY_W*4,KEY_W*-1),\n",
    "        (KEY_W*9,KEY_W*-1),\n",
    "        (KEY_W*13,MIN_Y-2.5),\n",
    "        #should be safe to just modify max_y\n",
    "        (KEY_W,MAX_Y+2.5),\n",
    "        (KEY_W*3,KEY_W*-4),\n",
    "        (KEY_W*7,KEY_W*-4),\n",
    "        (KEY_W*11,KEY_W*-4),\n",
    "        (KEY_W*13,MAX_Y+2.5),\n",
    "    ]"
   ]
  },
  {
   "cell_type": "code",
   "execution_count": 3,
   "id": "efd2c2f4-29f2-4ade-8679-9ff89221430d",
   "metadata": {
    "tags": []
   },
   "outputs": [
    {
     "data": {
      "text/plain": [
       "<cad_viewer_widget.widget.CadViewer at 0x7ff7eef93e20>"
      ]
     },
     "execution_count": 3,
     "metadata": {},
     "output_type": "execute_result"
    }
   ],
   "source": [
    "#make the case\n",
    "r =(\n",
    "    cq.Workplane('XY')\n",
    "    .placeSketch(base_sketch)\n",
    "    .extrude(1.6)\n",
    "    .center(0,0)\n",
    "    .placeSketch(key_sketch)\n",
    "    .cutThruAll()\n",
    ")\n",
    "#cut the holes\n",
    "plate = (\n",
    "    r\n",
    "    .pushPoints(holes)\n",
    "    .circle(1.1)\n",
    "    .tag('mounting')\n",
    "    .cutThruAll()\n",
    ")\n",
    "\n",
    "show(plate)"
   ]
  },
  {
   "cell_type": "code",
   "execution_count": 4,
   "id": "9d07f95d-4cc5-4531-a16d-667c9e044981",
   "metadata": {
    "tags": []
   },
   "outputs": [
    {
     "data": {
      "text/plain": [
       "<cad_viewer_widget.widget.CadViewer at 0x7ff7eef93e20>"
      ]
     },
     "execution_count": 4,
     "metadata": {},
     "output_type": "execute_result"
    }
   ],
   "source": [
    "#make the case\n",
    "r = (\n",
    "    cq.Workplane('XY')\n",
    "    .placeSketch(base_sketch)\n",
    "    .extrude(1.6)\n",
    ")\n",
    "#cut the holes\n",
    "pcb = (\n",
    "    r\n",
    "    .pushPoints(holes)\n",
    "    .circle(2)\n",
    "    .tag('mounting')\n",
    "    .cutThruAll()\n",
    ")\n",
    "\n",
    "show(pcb)"
   ]
  },
  {
   "cell_type": "code",
   "execution_count": 14,
   "id": "00d519f2-4ca9-4313-93f6-42713bb88c68",
   "metadata": {
    "tags": []
   },
   "outputs": [
    {
     "data": {
      "text/plain": [
       "<cad_viewer_widget.widget.CadViewer at 0x7ff7eef93e20>"
      ]
     },
     "execution_count": 14,
     "metadata": {},
     "output_type": "execute_result"
    }
   ],
   "source": [
    "#make the base1 cutout\n",
    "BLACKPILL_OFFSET = 90\n",
    "BLACKPILL_X = 58\n",
    "BLACKPILL_Y = 23\n",
    "USBC_OFFSET = BLACKPILL_OFFSET + BLACKPILL_X\n",
    "r = (\n",
    "    cq.Workplane('XY')\n",
    "    .placeSketch(base_sketch)\n",
    "    .extrude(3)\n",
    "    .center(0,0)\n",
    "    #cut out the STM32 blackpill\n",
    "    .sketch()\n",
    "    .segment((BLACKPILL_OFFSET, CASE_MIN_Y), (BLACKPILL_OFFSET+BLACKPILL_X, CASE_MIN_Y))\n",
    "    .segment((BLACKPILL_OFFSET+BLACKPILL_X, MIN_Y-BLACKPILL_Y))\n",
    "    .segment((BLACKPILL_OFFSET, MIN_Y-BLACKPILL_Y))\n",
    "    .close()\n",
    "    .assemble()\n",
    "    .finalize()\n",
    "    .cutThruAll()\n",
    "    .moveTo(0,0)\n",
    "    #cut out the USB C\n",
    "    .sketch()\n",
    "    .segment((USBC_OFFSET, CASE_MIN_Y), (USBC_OFFSET, CASE_MIN_Y-9.525), tag='f')\n",
    "    .segment( (USBC_OFFSET+12, CASE_MIN_Y-9.525))\n",
    "    .segment((USBC_OFFSET+12, CASE_MIN_Y))\n",
    "    .close()\n",
    "    .assemble()\n",
    "    .finalize()\n",
    "    .cutThruAll()\n",
    ")\n",
    "#cut the holes\n",
    "b1 =  (\n",
    "    r.center(0,0)\n",
    "    .pushPoints(holes)\n",
    "    .circle(1.1)\n",
    "    .tag('mounting')\n",
    "    .cutThruAll()\n",
    ")\n",
    "\n",
    "show(b1)"
   ]
  },
  {
   "cell_type": "code",
   "execution_count": 15,
   "id": "8c21f680-9233-4b6a-96b9-c9c9ab2c5661",
   "metadata": {},
   "outputs": [
    {
     "data": {
      "text/plain": [
       "<cad_viewer_widget.widget.CadViewer at 0x7ff7eef93e20>"
      ]
     },
     "execution_count": 15,
     "metadata": {},
     "output_type": "execute_result"
    }
   ],
   "source": [
    "#make the case\n",
    "r = (\n",
    "    cq.Workplane('XY')\n",
    "    #base plate\n",
    "    .sketch()\n",
    "    .segment((CASE_MIN_X, CASE_MIN_Y), (CASE_MAX_X, CASE_MIN_Y))\n",
    "    .segment((CASE_MAX_X, MIN_Y - BLACKPILL_Y))\n",
    "    .segment((CASE_MIN_X, MIN_Y - BLACKPILL_Y))\n",
    "    .close()\n",
    "    .assemble()\n",
    "    .vertices()\n",
    "    .fillet(FILLET_RD)\n",
    "    .finalize()\n",
    "    .extrude(3)\n",
    "    .center(0,0)\n",
    ")\n",
    "#cut the holes\n",
    "b2 = (\n",
    "    r.center(0,0)\n",
    "    .pushPoints(holes)\n",
    "    .circle(1.1)\n",
    "    .tag('mounting')\n",
    "    .cutThruAll()\n",
    ")\n",
    "\n",
    "show(b2)"
   ]
  },
  {
   "cell_type": "code",
   "execution_count": 17,
   "id": "90c887a6-09a0-4406-97ea-91c869cd0fc5",
   "metadata": {},
   "outputs": [
    {
     "name": "stdout",
     "output_type": "stream",
     "text": [
      "This is Ipopt version 3.14.9, running with linear solver MUMPS 5.2.1.\n",
      "\n",
      "Number of nonzeros in equality constraint Jacobian...:        0\n",
      "Number of nonzeros in inequality constraint Jacobian.:        0\n",
      "Number of nonzeros in Lagrangian Hessian.............:       99\n",
      "\n",
      "Total number of variables............................:       18\n",
      "                     variables with only lower bounds:        0\n",
      "                variables with lower and upper bounds:        0\n",
      "                     variables with only upper bounds:        0\n",
      "Total number of equality constraints.................:        0\n",
      "Total number of inequality constraints...............:        0\n",
      "        inequality constraints with only lower bounds:        0\n",
      "   inequality constraints with lower and upper bounds:        0\n",
      "        inequality constraints with only upper bounds:        0\n",
      "\n",
      "iter    objective    inf_pr   inf_du lg(mu)  ||d||  lg(rg) alpha_du alpha_pr  ls\n",
      "   0  1.0336927e-02 0.00e+00 4.29e-01  -1.0 0.00e+00    -  0.00e+00 0.00e+00   0\n",
      "   1  1.6723607e-04 0.00e+00 2.80e-02  -1.7 8.97e-02  -2.0 1.00e+00 1.00e+00f  1\n",
      "   2  2.1352958e-05 0.00e+00 1.18e-03  -3.8 1.22e-02  -2.5 1.00e+00 1.00e+00f  1\n",
      "   3  4.2967418e-06 0.00e+00 2.77e-04  -5.7 8.21e-03  -3.0 1.00e+00 1.00e+00f  1\n",
      "   4  8.6142707e-07 0.00e+00 8.29e-05  -5.7 5.52e-03  -3.4 1.00e+00 1.00e+00f  1\n",
      "   5  1.7205640e-07 0.00e+00 2.48e-05  -5.7 3.70e-03  -3.9 1.00e+00 1.00e+00f  1\n",
      "   6  3.3989913e-08 0.00e+00 2.42e-05  -5.7 3.43e+00    -  1.00e+00 1.00e+00f  1\n",
      "   7  6.8391063e-09 0.00e+00 2.20e-06  -5.7 1.64e-03  -4.4 1.00e+00 1.00e+00f  1\n",
      "   8  1.3510652e-09 0.00e+00 6.65e-07  -8.6 3.34e+00    -  1.00e+00 1.00e+00f  1\n",
      "   9  2.7516387e-10 0.00e+00 1.98e-07  -8.6 7.29e-04  -4.9 1.00e+00 1.00e+00f  1\n",
      "iter    objective    inf_pr   inf_du lg(mu)  ||d||  lg(rg) alpha_du alpha_pr  ls\n",
      "  10  5.4357756e-11 0.00e+00 7.80e-08  -8.6 2.94e-02    -  1.00e+00 1.00e+00f  1\n",
      "  11  1.0738186e-11 0.00e+00 3.44e-08  -8.6 4.09e-03    -  1.00e+00 1.00e+00f  1\n",
      "  12  2.1213003e-12 0.00e+00 1.53e-08  -8.6 4.86e-03    -  1.00e+00 1.00e+00f  1\n",
      "  13  4.1905753e-13 0.00e+00 6.80e-09 -12.9 2.73e-04    -  1.00e+00 1.00e+00f  1\n",
      "  14  8.2784032e-14 0.00e+00 3.02e-09 -12.9 1.26e-04    -  1.00e+00 1.00e+00f  1\n",
      "\n",
      "Number of Iterations....: 14\n",
      "\n",
      "                                   (scaled)                 (unscaled)\n",
      "Objective...............:   8.2784031950262492e-14    8.2784031950262492e-14\n",
      "Dual infeasibility......:   3.0227072672941001e-09    3.0227072672941001e-09\n",
      "Constraint violation....:   0.0000000000000000e+00    0.0000000000000000e+00\n",
      "Variable bound violation:   0.0000000000000000e+00    0.0000000000000000e+00\n",
      "Complementarity.........:   0.0000000000000000e+00    0.0000000000000000e+00\n",
      "Overall NLP error.......:   3.0227072672941001e-09    3.0227072672941001e-09\n",
      "\n",
      "\n",
      "Number of objective function evaluations             = 15\n",
      "Number of objective gradient evaluations             = 15\n",
      "Number of equality constraint evaluations            = 0\n",
      "Number of inequality constraint evaluations          = 0\n",
      "Number of equality constraint Jacobian evaluations   = 0\n",
      "Number of inequality constraint Jacobian evaluations = 0\n",
      "Number of Lagrangian Hessian evaluations             = 14\n",
      "Total seconds in IPOPT                               = 0.027\n",
      "\n",
      "EXIT: Solved To Acceptable Level.\n",
      "\u001b[32;1m\n",
      "*******************************************************************\n",
      "******        Statistics on Transfer (Write)                 ******\u001b[0m\n",
      "\u001b[32;1m\n",
      "*******************************************************************\n",
      "******        Transfer Mode = 0  I.E.  As Is       ******\u001b[0m\n",
      "\u001b[32;1m******        Transferring Shape, ShapeType = 0                      ******\u001b[0m\n",
      "\u001b[32;1m** WorkSession : Sending all data\u001b[0m\n",
      "\u001b[32;1m Step File Name : kb.step(50699 ents)  Write  Done\u001b[0m\n",
      "100% ⋮————————————————————————————————————————————————————————————⋮ (4/4)  0.00s\n"
     ]
    }
   ],
   "source": [
    "#assembly stack\n",
    "kb = (\n",
    "    cq.Assembly()\n",
    ")\n",
    "\n",
    "kb.add(plate, name=\"plate\", color=cq.Color(\"black\"))\n",
    "kb.add(pcb, name=\"pcb\", color=cq.Color(\"black\"))\n",
    "kb.add(b1, name=\"b1\", color=cq.Color(\"black\"))\n",
    "kb.add(b2, name=\"b2\", color=cq.Color(\"black\"))\n",
    "\n",
    "kb.constrain(\"plate\", \"FixedRotation\", (0,0,0))\n",
    "kb.constrain(\"pcb\", \"FixedRotation\", (0,0,0))\n",
    "kb.constrain(\"b1\", \"FixedRotation\", (0,0,0))\n",
    "kb.constrain(\"b2\", \"FixedRotation\", (0,0,0))\n",
    "\n",
    "kb.constrain(\"plate@faces@<Z\", \"b1@faces@>Z\", \"Axis\")\n",
    "kb.constrain(\"plate@faces@<Z\", \"b1@faces@>Z\", \"PointInPlane\", param=8)\n",
    "kb.constrain(\"plate@faces@<Z\", \"pcb@faces@>Z\", \"Axis\")\n",
    "kb.constrain(\"plate@faces@>Z\", \"pcb@faces@>Z\", \"PointInPlane\", param=5)\n",
    "kb.constrain(\"b1@faces@<Z\", \"b2@faces@>Z\", \"Axis\")\n",
    "kb.constrain(\"b2@faces@>Z\", \"b1@faces@<Z\",  \"PointInPlane\")\n",
    "\n",
    "kb.constrain(\"b1\", b1.edges(tag='mounting').edges(\">>X[0]\").first().val(),\n",
    "             \"b2\",b2.edges(tag='mounting').edges(\">>X[0]\").first().val(),\n",
    "             \"Point\", param=3)\n",
    "kb.solve()\n",
    "\n",
    "kb.save('kb.step')"
   ]
  }
 ],
 "metadata": {
  "kernelspec": {
   "display_name": "Python 3 (ipykernel)",
   "language": "python",
   "name": "python3"
  },
  "language_info": {
   "codemirror_mode": {
    "name": "ipython",
    "version": 3
   },
   "file_extension": ".py",
   "mimetype": "text/x-python",
   "name": "python",
   "nbconvert_exporter": "python",
   "pygments_lexer": "ipython3",
   "version": "3.9.13"
  }
 },
 "nbformat": 4,
 "nbformat_minor": 5
}
